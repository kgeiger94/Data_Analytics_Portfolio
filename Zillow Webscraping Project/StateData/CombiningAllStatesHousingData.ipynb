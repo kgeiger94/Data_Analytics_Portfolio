{
 "cells": [
  {
   "cell_type": "markdown",
   "metadata": {},
   "source": [
    "# <center>Part Two: Appending All Zillow House Listings<center>"
   ]
  },
  {
   "cell_type": "markdown",
   "metadata": {},
   "source": [
    "### Combining All Scraped Housing Data From All States\n",
    "##### - This notebook is used to combine all housing data excel files for each state that was scraped from Zillow.com\n",
    "##### - There are a total of 50 states and Washington DC so a total of 51 Excel files that will be combined"
   ]
  },
  {
   "cell_type": "code",
   "execution_count": 9,
   "metadata": {},
   "outputs": [],
   "source": [
    "# Import packages and declare a couple variables\n",
    "import os\n",
    "import pandas as pd\n",
    "\n",
    "# Set some dataframe output settings\n",
    "pd.set_option('display.max_rows', None)\n",
    "pd.set_option('display.max_columns', None)\n",
    "pd.set_option('display.width', None)\n",
    "\n",
    "# Variables\n",
    "cwd = os.path.abspath('') \n",
    "files = os.listdir(cwd) "
   ]
  },
  {
   "cell_type": "code",
   "execution_count": 10,
   "metadata": {},
   "outputs": [
    {
     "data": {
      "text/plain": [
       "'C:\\\\Users\\\\Kyle\\\\Desktop\\\\Data Portfolio\\\\Zillow Webscraping Project\\\\StateData'"
      ]
     },
     "execution_count": 10,
     "metadata": {},
     "output_type": "execute_result"
    }
   ],
   "source": [
    "# Show the current working directory (Will be the directory that this notebook is created in)\n",
    "cwd"
   ]
  },
  {
   "cell_type": "code",
   "execution_count": 11,
   "metadata": {},
   "outputs": [
    {
     "data": {
      "text/plain": [
       "['.ipynb_checkpoints',\n",
       " 'alabama.xlsx',\n",
       " 'alaska.xlsx',\n",
       " 'arizona.xlsx',\n",
       " 'arkansas.xlsx',\n",
       " 'california.xlsx',\n",
       " 'colorado.xlsx',\n",
       " 'CombiningAllStatesHousingData.ipynb',\n",
       " 'connecticut.xlsx',\n",
       " 'delaware.xlsx',\n",
       " 'florida.xlsx',\n",
       " 'georgia.xlsx',\n",
       " 'hawaii.xlsx',\n",
       " 'idaho.xlsx',\n",
       " 'illinois.xlsx',\n",
       " 'indiana.xlsx',\n",
       " 'iowa.xlsx',\n",
       " 'kansas.xlsx',\n",
       " 'kentucky.xlsx',\n",
       " 'louisiana.xlsx',\n",
       " 'maine.xlsx',\n",
       " 'maryland.xlsx',\n",
       " 'massachusetts.xlsx',\n",
       " 'michigan.xlsx',\n",
       " 'minnesota.xlsx',\n",
       " 'mississippi.xlsx',\n",
       " 'missouri.xlsx',\n",
       " 'montana.xlsx',\n",
       " 'nebraska.xlsx',\n",
       " 'nevada.xlsx',\n",
       " 'new hampshire.xlsx',\n",
       " 'new jersey.xlsx',\n",
       " 'new mexico.xlsx',\n",
       " 'new york.xlsx',\n",
       " 'north carolina.xlsx',\n",
       " 'north dakota.xlsx',\n",
       " 'ohio.xlsx',\n",
       " 'oklahoma.xlsx',\n",
       " 'oregon.xlsx',\n",
       " 'pennsylvania.xlsx',\n",
       " 'rhode Island.xlsx',\n",
       " 'south carolina.xlsx',\n",
       " 'south dakota.xlsx',\n",
       " 'tennessee.xlsx',\n",
       " 'texas.xlsx',\n",
       " 'utah.xlsx',\n",
       " 'vermont.xlsx',\n",
       " 'virginia.xlsx',\n",
       " 'washington.xlsx',\n",
       " 'washintondc.xlsx',\n",
       " 'west virginia.xlsx',\n",
       " 'wisconsin.xlsx',\n",
       " 'wyoming.xlsx']"
      ]
     },
     "execution_count": 11,
     "metadata": {},
     "output_type": "execute_result"
    }
   ],
   "source": [
    "# Show all files that are in the directory\n",
    "files"
   ]
  },
  {
   "cell_type": "code",
   "execution_count": 6,
   "metadata": {},
   "outputs": [
    {
     "data": {
      "text/html": [
       "<div>\n",
       "<style scoped>\n",
       "    .dataframe tbody tr th:only-of-type {\n",
       "        vertical-align: middle;\n",
       "    }\n",
       "\n",
       "    .dataframe tbody tr th {\n",
       "        vertical-align: top;\n",
       "    }\n",
       "\n",
       "    .dataframe thead th {\n",
       "        text-align: right;\n",
       "    }\n",
       "</style>\n",
       "<table border=\"1\" class=\"dataframe\">\n",
       "  <thead>\n",
       "    <tr style=\"text-align: right;\">\n",
       "      <th></th>\n",
       "      <th>prices</th>\n",
       "      <th>address</th>\n",
       "      <th>links</th>\n",
       "      <th>beds</th>\n",
       "      <th>baths</th>\n",
       "      <th>sqft</th>\n",
       "      <th>street</th>\n",
       "      <th>city</th>\n",
       "      <th>state</th>\n",
       "      <th>zip</th>\n",
       "    </tr>\n",
       "  </thead>\n",
       "  <tbody>\n",
       "    <tr>\n",
       "      <th>0</th>\n",
       "      <td>125000.0</td>\n",
       "      <td>204 Powell St S, Union Springs, AL 36089</td>\n",
       "      <td>https://www.zillow.com/homedetails/204-Powell-...</td>\n",
       "      <td>5</td>\n",
       "      <td>3</td>\n",
       "      <td>4575.0</td>\n",
       "      <td>204 Powell St S</td>\n",
       "      <td>Union Springs</td>\n",
       "      <td>AL</td>\n",
       "      <td>36089.0</td>\n",
       "    </tr>\n",
       "    <tr>\n",
       "      <th>1</th>\n",
       "      <td>210000.0</td>\n",
       "      <td>317 Arrow Ave, Satsuma, AL 36572</td>\n",
       "      <td>https://www.zillow.com/homedetails/317-Arrow-A...</td>\n",
       "      <td>4</td>\n",
       "      <td>3</td>\n",
       "      <td>1789.0</td>\n",
       "      <td>317 Arrow Ave</td>\n",
       "      <td>Satsuma</td>\n",
       "      <td>AL</td>\n",
       "      <td>36572.0</td>\n",
       "    </tr>\n",
       "    <tr>\n",
       "      <th>2</th>\n",
       "      <td>185000.0</td>\n",
       "      <td>801 Washington St, Marion, AL 36756</td>\n",
       "      <td>https://www.zillow.com/homedetails/801-Washing...</td>\n",
       "      <td>5</td>\n",
       "      <td>2</td>\n",
       "      <td>5.0</td>\n",
       "      <td>801 Washington St</td>\n",
       "      <td>Marion</td>\n",
       "      <td>AL</td>\n",
       "      <td>36756.0</td>\n",
       "    </tr>\n",
       "    <tr>\n",
       "      <th>3</th>\n",
       "      <td>18500.0</td>\n",
       "      <td>216 Lincoln St, Roanoke, AL 36274</td>\n",
       "      <td>https://www.zillow.com/homedetails/216-Lincoln...</td>\n",
       "      <td>2</td>\n",
       "      <td>1</td>\n",
       "      <td>1621.0</td>\n",
       "      <td>216 Lincoln St</td>\n",
       "      <td>Roanoke</td>\n",
       "      <td>AL</td>\n",
       "      <td>36274.0</td>\n",
       "    </tr>\n",
       "    <tr>\n",
       "      <th>4</th>\n",
       "      <td>20000.0</td>\n",
       "      <td>0 County Road 351, Crane Hill, AL 35053</td>\n",
       "      <td>https://www.zillow.com/homedetails/0-County-Ro...</td>\n",
       "      <td>40</td>\n",
       "      <td>NaN</td>\n",
       "      <td>NaN</td>\n",
       "      <td>0 County Road 351</td>\n",
       "      <td>Crane Hill</td>\n",
       "      <td>AL</td>\n",
       "      <td>35053.0</td>\n",
       "    </tr>\n",
       "  </tbody>\n",
       "</table>\n",
       "</div>"
      ],
      "text/plain": [
       "     prices                                   address  \\\n",
       "0  125000.0  204 Powell St S, Union Springs, AL 36089   \n",
       "1  210000.0          317 Arrow Ave, Satsuma, AL 36572   \n",
       "2  185000.0       801 Washington St, Marion, AL 36756   \n",
       "3   18500.0         216 Lincoln St, Roanoke, AL 36274   \n",
       "4   20000.0   0 County Road 351, Crane Hill, AL 35053   \n",
       "\n",
       "                                               links beds baths    sqft  \\\n",
       "0  https://www.zillow.com/homedetails/204-Powell-...    5     3  4575.0   \n",
       "1  https://www.zillow.com/homedetails/317-Arrow-A...    4     3  1789.0   \n",
       "2  https://www.zillow.com/homedetails/801-Washing...    5     2     5.0   \n",
       "3  https://www.zillow.com/homedetails/216-Lincoln...    2     1  1621.0   \n",
       "4  https://www.zillow.com/homedetails/0-County-Ro...   40   NaN     NaN   \n",
       "\n",
       "              street           city state      zip  \n",
       "0    204 Powell St S  Union Springs    AL  36089.0  \n",
       "1      317 Arrow Ave        Satsuma    AL  36572.0  \n",
       "2  801 Washington St         Marion    AL  36756.0  \n",
       "3     216 Lincoln St        Roanoke    AL  36274.0  \n",
       "4  0 County Road 351     Crane Hill    AL  35053.0  "
      ]
     },
     "execution_count": 6,
     "metadata": {},
     "output_type": "execute_result"
    }
   ],
   "source": [
    "# Create new dataframe that will loop through all files in current directory and combine files that end with .xlsx (Excel Files)\n",
    "finalZdata = pd.DataFrame()\n",
    "for file in files:\n",
    "     if file.endswith('.xlsx'):\n",
    "         finalZdata = finalZdata.append(pd.read_excel(file), ignore_index=True) \n",
    "finalZdata.head()"
   ]
  },
  {
   "cell_type": "code",
   "execution_count": 7,
   "metadata": {},
   "outputs": [
    {
     "data": {
      "text/plain": [
       "30480"
      ]
     },
     "execution_count": 7,
     "metadata": {},
     "output_type": "execute_result"
    }
   ],
   "source": [
    "# See the length of data (Should be around 30,000 rows, 600 houses from each state)\n",
    "len(finalZdata)"
   ]
  },
  {
   "cell_type": "code",
   "execution_count": 17,
   "metadata": {},
   "outputs": [
    {
     "data": {
      "text/plain": [
       "(30480, 10)"
      ]
     },
     "execution_count": 17,
     "metadata": {},
     "output_type": "execute_result"
    }
   ],
   "source": [
    "finalZdata.shape"
   ]
  },
  {
   "cell_type": "code",
   "execution_count": 18,
   "metadata": {},
   "outputs": [],
   "source": [
    "# Now export all data to a new excel file\n",
    "finalZdata.to_excel('AllHousingData.xlsx', index = False)"
   ]
  }
 ],
 "metadata": {
  "kernelspec": {
   "display_name": "Python 3",
   "language": "python",
   "name": "python3"
  },
  "language_info": {
   "codemirror_mode": {
    "name": "ipython",
    "version": 3
   },
   "file_extension": ".py",
   "mimetype": "text/x-python",
   "name": "python",
   "nbconvert_exporter": "python",
   "pygments_lexer": "ipython3",
   "version": "3.7.4"
  }
 },
 "nbformat": 4,
 "nbformat_minor": 2
}
